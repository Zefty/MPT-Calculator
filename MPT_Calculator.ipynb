{
 "cells": [
  {
   "cell_type": "code",
   "execution_count": 1,
   "metadata": {},
   "outputs": [],
   "source": [
    "import numpy as np\n",
    "import scipy.stats\n",
    "import matplotlib.pyplot as plt"
   ]
  },
  {
   "cell_type": "code",
   "execution_count": 3,
   "metadata": {},
   "outputs": [],
   "source": [
    "def markowitz_weights(covariance, returns, risk_free_rate, inverse_covariance=None):\n",
    "    mu = returns - risk_free_rate\n",
    "    if inverse_covariance is None:\n",
    "        inverse_covariance = np.linalg.inv(covariance)\n",
    "    numerator = inverse_covariance @ mu\n",
    "    denomenator = np.sum(numerator)\n",
    "    return numerator/denomenator\n",
    "\n",
    "def min_variance_weights(covariance, inverse_covariance=None):\n",
    "    return markowitz_weights(covariance, np.ones(len(covariance)), 0, inverse_covariance)\n",
    "\n",
    "def portfolio_std(weights, covariance):\n",
    "    return np.sqrt(weights @ covariance @ weights)\n",
    "\n",
    "def sharpe_ratio(risk_free_rate, portfolio_return, standard_deviation):\n",
    "    return (portfolio_return - risk_free_rate) / standard_deviation\n",
    "\n",
    "def portfolio_return(returns, weights=None):\n",
    "    if weights is None:\n",
    "        n = len(returns)\n",
    "        weights = np.ones() / n\n",
    "    return weights @ returns\n",
    "\n",
    "def return_covmatrix(returns, weights=None):\n",
    "    if type(weights) == None:\n",
    "        return np.cov(returns, rowvar=False, ddof=0)\n",
    "    else:\n",
    "        # np.cov with weights is similar to this calc\n",
    "        # demeaned_returns = returns - weights @ returns\n",
    "        # demeaned_returns.T @ (weights * demeaned_returns.T).T\n",
    "        return np.cov(returns, aweights=weights, rowvar=False, ddof=0)"
   ]
  },
  {
   "cell_type": "code",
   "execution_count": 8,
   "metadata": {},
   "outputs": [
    {
     "data": {
      "text/plain": [
       "0.12324269813555536"
      ]
     },
     "execution_count": 8,
     "metadata": {},
     "output_type": "execute_result"
    }
   ],
   "source": [
    "total_port_value = 346262 + 159465\n",
    "weights = np.array([346262/total_port_value, 159465/total_port_value])\n",
    "cov = np.array([[0.18**2, 0], [0, 0]])\n",
    "portfolio_std(weights, cov)"
   ]
  },
  {
   "cell_type": "code",
   "execution_count": 9,
   "metadata": {},
   "outputs": [
    {
     "data": {
      "text/plain": [
       "0.08944341309947634"
      ]
     },
     "execution_count": 9,
     "metadata": {},
     "output_type": "execute_result"
    }
   ],
   "source": [
    "total_port_value = 405458 + 183848\n",
    "weights = np.array([405458/total_port_value, 183848/total_port_value])\n",
    "cov = np.array([[0.13**2, 0], [0, 0]])\n",
    "portfolio_std(weights, cov)"
   ]
  },
  {
   "cell_type": "code",
   "execution_count": 22,
   "metadata": {},
   "outputs": [
    {
     "name": "stdout",
     "output_type": "stream",
     "text": [
      "0.001621\n",
      "[[0.003724 0.002452]\n",
      " [0.002452 0.001621]]\n",
      "[[2.29734732 1.51264651]\n",
      " [1.51264651 1.        ]]\n",
      "[[0.0590549  0.04571499]\n",
      " [0.04571499 0.037     ]]\n"
     ]
    }
   ],
   "source": [
    "cov_m = return_covmatrix(np.array([-0.02, 0.05, 0.09]), np.array([0.3, 0.5, 0.2]))\n",
    "print(cov_m)\n",
    "cov_rh = return_covmatrix(np.array([[-0.04, -0.02], [0.06, 0.05], [0.13, 0.09]]), np.array([0.3, 0.5, 0.2]))\n",
    "print(cov_rh)\n",
    "beta = cov_rh/cov_m\n",
    "print(beta)\n",
    "capm_r = 0.02 + beta*(portfolio_return(np.array([-0.02, 0.05, 0.09]), np.array([0.3, 0.5, 0.2])) - 0.02)\n",
    "print(capm_r)"
   ]
  },
  {
   "cell_type": "markdown",
   "metadata": {},
   "source": [
    "\n",
    "E_rp = 0.14w_v + 0.04(1-w_v)\n",
    "sigma_p^2 = w_v^2*0.16^2\n"
   ]
  },
  {
   "cell_type": "code",
   "execution_count": 4,
   "metadata": {},
   "outputs": [
    {
     "name": "stdout",
     "output_type": "stream",
     "text": [
      "0.0988468674839936\n"
     ]
    }
   ],
   "source": [
    "returns = np.array([0.09, 0.06, 0.12])\n",
    "cov = np.array([[0.13**2, 0.7*0.13*0.17, 0.4*0.13*0.18], [0.7*0.13*0.17, 0.17**2, -0.2*0.17*0.18], [0.4*0.13*0.18, -0.2*0.17*0.18, 0.18**2]])\n",
    "weights = markowitz_weights(cov, returns, 0.02)\n",
    "\n",
    "sr = sharpe_ratio(0.02, portfolio_return(returns, weights), portfolio_std(weights, cov))\n",
    "\n",
    "print(portfolio_return(returns, weights))"
   ]
  },
  {
   "cell_type": "code",
   "execution_count": 30,
   "metadata": {},
   "outputs": [
    {
     "name": "stdout",
     "output_type": "stream",
     "text": [
      "553.8971023574686\n",
      "587.0536602389939\n",
      "641.9750773978691\n",
      "596.8987738103514\n",
      "567.2309935114617\n",
      "580.2163389633215\n",
      "635.728715727078\n",
      "594.2729829020765\n"
     ]
    }
   ],
   "source": [
    "# $2736 Situation\n",
    "# ===============\n",
    "\n",
    "w1 = 2736*100 - 14949 + 48151\n",
    "u1 = w1**0.5\n",
    "print(u1)\n",
    "\n",
    "# $2885 Situation\n",
    "# ===============\n",
    "\n",
    "w2 = 2885*100 - 14949 + 48151 + 22930\n",
    "u2 = w2**0.5\n",
    "print(u2)\n",
    "\n",
    "# $3560 Situation\n",
    "# ===============\n",
    "\n",
    "w3 = 3560*100 - 14949 + 48151 + 22930 \n",
    "u3 = w3**0.5\n",
    "print(u3)\n",
    "\n",
    "expected_utility = 0.2*u1 + 0.5*u2 + 0.3*u3\n",
    "print(expected_utility)\n",
    "\n",
    "# ================================                  \n",
    "# No betting\n",
    "\n",
    "# $2736 Situation\n",
    "# ===============\n",
    "\n",
    "w1 = 2736*100 + 48151\n",
    "u1 = w1**0.5\n",
    "print(u1)\n",
    "\n",
    "# $2885 Situation\n",
    "# ===============\n",
    "\n",
    "w2 = 2885*100 + 48151 \n",
    "u2 = w2**0.5\n",
    "print(u2)\n",
    "\n",
    "# $3560 Situation\n",
    "# ===============\n",
    "\n",
    "w3 = 3560*100 + 48151  \n",
    "u3 = w3**0.5\n",
    "print(u3)\n",
    "\n",
    "expected_utility = 0.2*u1 + 0.5*u2 + 0.3*u3\n",
    "print(expected_utility)\n",
    "\n"
   ]
  },
  {
   "cell_type": "code",
   "execution_count": null,
   "metadata": {},
   "outputs": [],
   "source": []
  }
 ],
 "metadata": {
  "interpreter": {
   "hash": "bdb671202a387ebf0bc7bf04476cbafa528fae566193c2efe94e2aaf8539be45"
  },
  "kernelspec": {
   "display_name": "Python 3.8.8 ('base')",
   "language": "python",
   "name": "python3"
  },
  "language_info": {
   "codemirror_mode": {
    "name": "ipython",
    "version": 3
   },
   "file_extension": ".py",
   "mimetype": "text/x-python",
   "name": "python",
   "nbconvert_exporter": "python",
   "pygments_lexer": "ipython3",
   "version": "3.8.8"
  },
  "orig_nbformat": 4
 },
 "nbformat": 4,
 "nbformat_minor": 2
}
