{
 "cells": [
  {
   "cell_type": "code",
   "execution_count": null,
   "metadata": {},
   "outputs": [],
   "source": [
    "import numpy as np\n",
    "import scipy.stats\n",
    "import matplotlib.pyplot as plt"
   ]
  },
  {
   "cell_type": "code",
   "execution_count": null,
   "metadata": {},
   "outputs": [],
   "source": [
    "def markowitz_weights(covariance, returns, risk_free_rate, inverse_covariance=None):\n",
    "    mu = returns - risk_free_rate\n",
    "    if inverse_covariance is None:\n",
    "        inverse_covariance = np.linalg.inv(covariance)\n",
    "    numerator = inverse_covariance @ mu\n",
    "    denomenator = np.sum(numerator)\n",
    "    return numerator/denomenator\n",
    "\n",
    "def min_variance_weights(covariance, inverse_covariance=None):\n",
    "    return markowitz_weights(covariance, np.ones(len(covariance)), 0, inverse_covariance)\n",
    "\n",
    "def portfolio_std(weights, covariance):\n",
    "    return np.sqrt(weights @ covariance @ weights)\n",
    "\n",
    "def sharpe_ratio(risk_free_rate, portfolio_return, standard_deviation):\n",
    "    return (portfolio_return - risk_free_rate) / standard_deviation\n",
    "\n",
    "def portfolio_return(weights, returns):\n",
    "    return weights @ returns\n",
    "\n",
    "def return_covmatrix(returns):\n",
    "    return np.cov(returns, rowvar=False, ddof=0)"
   ]
  }
 ],
 "metadata": {
  "language_info": {
   "name": "python"
  },
  "orig_nbformat": 4
 },
 "nbformat": 4,
 "nbformat_minor": 2
}
