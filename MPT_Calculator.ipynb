{
 "cells": [
  {
   "cell_type": "code",
   "execution_count": 1,
   "metadata": {},
   "outputs": [],
   "source": [
    "import numpy as np\n",
    "import scipy.stats\n",
    "import matplotlib.pyplot as plt"
   ]
  },
  {
   "cell_type": "code",
   "execution_count": 28,
   "metadata": {},
   "outputs": [],
   "source": [
    "def markowitz_weights(covariance, returns, risk_free_rate, inverse_covariance=None):\n",
    "    mu = returns - risk_free_rate\n",
    "    if inverse_covariance is None:\n",
    "        inverse_covariance = np.linalg.inv(covariance)\n",
    "    numerator = inverse_covariance @ mu\n",
    "    denomenator = np.sum(numerator)\n",
    "    return numerator/denomenator\n",
    "\n",
    "def min_variance_weights(covariance, inverse_covariance=None):\n",
    "    return markowitz_weights(covariance, np.ones(len(covariance)), 0, inverse_covariance)\n",
    "\n",
    "def portfolio_std(weights, covariance):\n",
    "    return np.sqrt(weights @ covariance @ weights)\n",
    "\n",
    "def sharpe_ratio(risk_free_rate, portfolio_return, standard_deviation):\n",
    "    return (portfolio_return - risk_free_rate) / standard_deviation\n",
    "\n",
    "def portfolio_return(returns, weights=None):\n",
    "    if weights is None:\n",
    "        n = len(returns)\n",
    "        weights = np.ones() / n\n",
    "    return weights @ returns\n",
    "\n",
    "def return_covmatrix(returns, weights=None):\n",
    "    if type(weights) == None:\n",
    "        return np.cov(returns, rowvar=False, ddof=0)\n",
    "    else:\n",
    "        # np.cov with weights is similar to this calc\n",
    "        # demeaned_returns = returns - weights @ returns\n",
    "        # demeaned_returns.T @ (weights * demeaned_returns.T).T\n",
    "        return np.cov(returns, aweights=weights, rowvar=False, ddof=0)"
   ]
  },
  {
   "cell_type": "code",
   "execution_count": 30,
   "metadata": {},
   "outputs": [
    {
     "name": "stdout",
     "output_type": "stream",
     "text": [
      "[[-5 -2]\n",
      " [ 5  4]\n",
      " [15 10]]\n",
      "[[66.66666667 40.        ]\n",
      " [40.         24.        ]]\n",
      "[[60.  36. ]\n",
      " [36.  21.6]]\n"
     ]
    }
   ],
   "source": [
    "returns = np.array([[-5,-2], [5,4], [15,10]])\n",
    "print(returns)\n",
    "weights = np.array([0.3, 0.4, 0.3])\n",
    "print(return_covmatrix(returns))\n",
    "print(return_covmatrix(returns, weights))\n",
    "\n"
   ]
  }
 ],
 "metadata": {
  "interpreter": {
   "hash": "bdb671202a387ebf0bc7bf04476cbafa528fae566193c2efe94e2aaf8539be45"
  },
  "kernelspec": {
   "display_name": "Python 3.8.8 ('base')",
   "language": "python",
   "name": "python3"
  },
  "language_info": {
   "codemirror_mode": {
    "name": "ipython",
    "version": 3
   },
   "file_extension": ".py",
   "mimetype": "text/x-python",
   "name": "python",
   "nbconvert_exporter": "python",
   "pygments_lexer": "ipython3",
   "version": "3.8.8"
  },
  "orig_nbformat": 4
 },
 "nbformat": 4,
 "nbformat_minor": 2
}
