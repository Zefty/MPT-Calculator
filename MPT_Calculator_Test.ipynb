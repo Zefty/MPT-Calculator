{
 "cells": [
  {
   "cell_type": "code",
   "execution_count": 1,
   "metadata": {},
   "outputs": [],
   "source": [
    "import numpy as np\n",
    "import scipy.stats\n",
    "import matplotlib.pyplot as plt"
   ]
  },
  {
   "cell_type": "code",
   "execution_count": 2,
   "metadata": {},
   "outputs": [],
   "source": [
    "def markowitz_weights(covariance, returns, risk_free_rate, inverse_covariance=None):\n",
    "    mu = returns - risk_free_rate\n",
    "    if inverse_covariance is None:\n",
    "        inverse_covariance = np.linalg.inv(covariance)\n",
    "    numerator = inverse_covariance @ mu\n",
    "    denomenator = np.sum(numerator)\n",
    "    return numerator/denomenator\n",
    "\n",
    "def min_variance_weights(covariance, inverse_covariance=None):\n",
    "    return markowitz_weights(covariance, np.ones(len(covariance)), 0, inverse_covariance)\n",
    "\n",
    "def portfolio_std(weights, covariance):\n",
    "    return np.sqrt(weights @ covariance @ weights)\n",
    "\n",
    "def sharpe_ratio(risk_free_rate, portfolio_return, standard_deviation):\n",
    "    return (portfolio_return - risk_free_rate) / standard_deviation\n",
    "\n",
    "def portfolio_return(returns, weights=None):\n",
    "    if weights is None:\n",
    "        n = len(returns)\n",
    "        weights = np.ones() / n\n",
    "    return weights @ returns\n",
    "\n",
    "def return_covmatrix(returns, weights=None):\n",
    "    if type(weights) == None:\n",
    "        return np.cov(returns, rowvar=False, ddof=0)\n",
    "    else:\n",
    "        # np.cov with weights is similar to this calc\n",
    "        # demeaned_returns = returns - weights @ returns\n",
    "        # demeaned_returns.T @ (weights * demeaned_returns.T).T\n",
    "        return np.cov(returns, aweights=weights, rowvar=False, ddof=0)"
   ]
  },
  {
   "cell_type": "code",
   "execution_count": 7,
   "metadata": {},
   "outputs": [
    {
     "name": "stdout",
     "output_type": "stream",
     "text": [
      "0.13499999999999984\n"
     ]
    }
   ],
   "source": [
    "cov = np.array([[0.4,0.2,0.1,0.3,0.2], [0.2,0.1,0.4,0.1,0.4], [0.1,0.4,0.2,0.5,0.2], [0.3,0.1,0.5,0.4,0.2],[0.2,0.4,0.2,0.2,0.5]])\n",
    "min_weights = min_variance_weights(cov)\n",
    "\n",
    "returns = portfolio_return(np.array([0.04, 0.08, 0.03, 0.05, 0.08]), min_weights)\n",
    "print(returns)"
   ]
  },
  {
   "cell_type": "code",
   "execution_count": 8,
   "metadata": {},
   "outputs": [
    {
     "name": "stdout",
     "output_type": "stream",
     "text": [
      "0.004000000000000001\n",
      "[[0.009 0.006]\n",
      " [0.006 0.004]]\n",
      "[[2.25 1.5 ]\n",
      " [1.5  1.  ]]\n",
      "[[0.0875 0.065 ]\n",
      " [0.065  0.05  ]]\n"
     ]
    }
   ],
   "source": [
    "cov_m = return_covmatrix(np.array([0.15, 0.05, -0.05]), np.array([0.2, 0.6, 0.2]))\n",
    "print(cov_m)\n",
    "cov_rh = return_covmatrix(np.array([[0.25, 0.15], [0.1, 0.05], [-0.05, -0.05]]), np.array([0.2, 0.6, 0.2]))\n",
    "print(cov_rh)\n",
    "beta = cov_rh/cov_m\n",
    "print(beta)\n",
    "capm_r = 0.02 + beta*(portfolio_return(np.array([0.15, 0.05, -0.05]), np.array([0.2, 0.6, 0.2])) - 0.02)\n",
    "print(capm_r)"
   ]
  }
 ],
 "metadata": {
  "interpreter": {
   "hash": "bdb671202a387ebf0bc7bf04476cbafa528fae566193c2efe94e2aaf8539be45"
  },
  "kernelspec": {
   "display_name": "Python 3.8.8 ('base')",
   "language": "python",
   "name": "python3"
  },
  "language_info": {
   "codemirror_mode": {
    "name": "ipython",
    "version": 3
   },
   "file_extension": ".py",
   "mimetype": "text/x-python",
   "name": "python",
   "nbconvert_exporter": "python",
   "pygments_lexer": "ipython3",
   "version": "3.8.8"
  },
  "orig_nbformat": 4
 },
 "nbformat": 4,
 "nbformat_minor": 2
}
